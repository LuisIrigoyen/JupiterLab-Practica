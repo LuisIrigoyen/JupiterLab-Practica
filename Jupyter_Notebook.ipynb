{
 "cells": [
  {
   "cell_type": "markdown",
   "metadata": {},
   "source": [
    "<center>\n",
    "    <img src=\"https://cf-courses-data.s3.us.cloud-object-storage.appdomain.cloud/IBMDeveloperSkillsNetwork-DS0105EN-SkillsNetwork/labs/Module2/images/SN_web_lightmode.png\" width=\"300\" alt=\"cognitiveclass.ai logo\">\n",
    "</center>\n"
   ]
  },
  {
   "cell_type": "markdown",
   "metadata": {},
   "source": [
    "#### Add your code below following the instructions given in the course\n"
   ]
  },
  {
   "cell_type": "markdown",
   "metadata": {
    "tags": []
   },
   "source": [
    "# My Data Science Notebook"
   ]
  },
  {
   "cell_type": "markdown",
   "metadata": {
    "tags": []
   },
   "source": [
    "#Exercise 3: Create a markdown cell for an introduction.\n",
    "\n",
    "## Introduction\n",
    "This notebook will cover various exercises related to data science.\n",
    "\n"
   ]
  },
  {
   "cell_type": "markdown",
   "metadata": {},
   "source": [
    "#Exercise 4: Create a markdown cell to list data science languages.\n",
    "\n",
    "### Data Science Languages\n",
    "- Python\n",
    "- R\n",
    "- SQL\n",
    "- Julia"
   ]
  },
  {
   "cell_type": "markdown",
   "metadata": {
    "tags": []
   },
   "source": [
    "#Exercise 5: Create a markdown cell to list data science libraries.\n",
    "\n",
    "### Data Science Libraries\n",
    "- Pandas\n",
    "- NumPy\n",
    "- Scikit-learn\n",
    "- TensorFlow\n",
    "\n"
   ]
  },
  {
   "cell_type": "markdown",
   "metadata": {
    "tags": []
   },
   "source": [
    "#Exercise 6: Create a markdown cell with a table of Data Science tools.\n",
    "\n",
    "### Data Science Tools\n",
    "\n",
    "| Tool               | Use                      |\n",
    "|--------------------|--------------------------|\n",
    "| Jupyter Notebook   | Interactive computing    |\n",
    "| Git                | Version control          |\n",
    "| Tableau            | Data visualization       |\n",
    "| SQL databases      | Data storage             |\n"
   ]
  },
  {
   "cell_type": "markdown",
   "metadata": {},
   "source": [
    "#Exercise 7: Create a markdown cell introducing arithmetic expression examples.\n",
    "\n",
    "### Arithmetic Expression Examples\n",
    "\n",
    "In Python, we can perform basic arithmetic using the following operators:\n",
    "\n",
    "- Addition: `3 + 2` will give `5`\n",
    "- Subtraction: `5 - 3` will give `2`\n",
    "- Multiplication: `4 * 3` will give `12`\n",
    "- Division: `8 / 2` will give `4`\n",
    "- Modulus: `7 % 2` will give `1` (the remainder of the division)\n",
    "- Exponentiation: `2 ** 3` will give `8` (2 raised to the power of 3)\n"
   ]
  },
  {
   "cell_type": "code",
   "execution_count": 5,
   "metadata": {
    "tags": []
   },
   "outputs": [
    {
     "data": {
      "text/plain": [
       "17"
      ]
     },
     "execution_count": 5,
     "metadata": {},
     "output_type": "execute_result"
    }
   ],
   "source": [
    "#Exercise 8: Create a code cell to multiply and add numbers.\n",
    "\n",
    "# Multiply and add numbers\n",
    "result = (5 * 3) + 2\n",
    "result\n",
    "\n"
   ]
  },
  {
   "cell_type": "code",
   "execution_count": 6,
   "metadata": {
    "tags": []
   },
   "outputs": [
    {
     "data": {
      "text/plain": [
       "2.0"
      ]
     },
     "execution_count": 6,
     "metadata": {},
     "output_type": "execute_result"
    }
   ],
   "source": [
    "#Exercise 9: Create a code cell to convert minutes to hours.\n",
    "\n",
    "# Convert minutes to hours\n",
    "minutes = 120\n",
    "hours = minutes / 60\n",
    "hours"
   ]
  },
  {
   "cell_type": "markdown",
   "metadata": {
    "tags": []
   },
   "source": [
    "#Exercise 10: Insert a markdown cell to list Objectives.\n",
    "\n",
    "### Objectives\n",
    "1. Understand Markdown syntax\n",
    "2. Practice basic Python operations\n",
    "3. Learn to convert units"
   ]
  },
  {
   "cell_type": "markdown",
   "metadata": {
    "tags": []
   },
   "source": [
    "#Exercise 10: Insert a markdown cell to list Objectives.\n",
    "\n",
    "### Objectives\n",
    "1. Understand Markdown syntax\n",
    "2. Practice basic Python operations\n",
    "3. Learn to convert units"
   ]
  },
  {
   "cell_type": "markdown",
   "metadata": {},
   "source": [
    "#Exercise 11: Create a markdown cell to indicate the Author's name.\n",
    "\n",
    "**Author**: Luis Irigoyen"
   ]
  },
  {
   "cell_type": "markdown",
   "metadata": {},
   "source": [
    "#Exercise 11: Create a markdown cell to indicate the Author's name.\n",
    "\n",
    "**Author**: Luis Irigoyen"
   ]
  }
 ],
 "metadata": {
  "kernelspec": {
   "display_name": "Python",
   "language": "python",
   "name": "conda-env-python-py"
  },
  "language_info": {
   "codemirror_mode": {
    "name": "ipython",
    "version": 3
   },
   "file_extension": ".py",
   "mimetype": "text/x-python",
   "name": "python",
   "nbconvert_exporter": "python",
   "pygments_lexer": "ipython3",
   "version": "3.7.12"
  }
 },
 "nbformat": 4,
 "nbformat_minor": 4
}
